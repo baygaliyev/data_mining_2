{
  "nbformat": 4,
  "nbformat_minor": 0,
  "metadata": {
    "kernelspec": {
      "display_name": "Python 3",
      "language": "python",
      "name": "python3"
    },
    "language_info": {
      "codemirror_mode": {
        "name": "ipython",
        "version": 3
      },
      "file_extension": ".py",
      "mimetype": "text/x-python",
      "name": "python",
      "nbconvert_exporter": "python",
      "pygments_lexer": "ipython3",
      "version": "3.7.0"
    },
    "colab": {
      "name": "dm_2_project_addition.ipynb",
      "provenance": []
    }
  },
  "cells": [
    {
      "cell_type": "code",
      "metadata": {
        "id": "ca_cRpe6iMxL"
      },
      "source": [
        "#libraries\n",
        "\n",
        "import pandas as pd\n",
        "import matplotlib.pyplot as plt\n",
        "import numpy as np\n",
        "import matplotlib.pyplot as plt"
      ],
      "execution_count": null,
      "outputs": []
    },
    {
      "cell_type": "code",
      "metadata": {
        "id": "LFc0nPIOiMxU",
        "outputId": "d576d00f-f1f8-4e81-920e-6d08e3c78fbf"
      },
      "source": [
        "#your path to the initial file with \\\\\n",
        "\n",
        "df = pd.read_csv(\"C:\\homework\\DM_II\\project\\sequential_pattern\\\\dm2_data.csv\")\n",
        "d=df.copy()\n",
        "d.head()"
      ],
      "execution_count": null,
      "outputs": [
        {
          "data": {
            "text/html": [
              "<div>\n",
              "<style scoped>\n",
              "    .dataframe tbody tr th:only-of-type {\n",
              "        vertical-align: middle;\n",
              "    }\n",
              "\n",
              "    .dataframe tbody tr th {\n",
              "        vertical-align: top;\n",
              "    }\n",
              "\n",
              "    .dataframe thead th {\n",
              "        text-align: right;\n",
              "    }\n",
              "</style>\n",
              "<table border=\"1\" class=\"dataframe\">\n",
              "  <thead>\n",
              "    <tr style=\"text-align: right;\">\n",
              "      <th></th>\n",
              "      <th>Date</th>\n",
              "      <th>Time</th>\n",
              "      <th>CO(GT)</th>\n",
              "      <th>PT08.S1(CO)</th>\n",
              "      <th>NMHC(GT)</th>\n",
              "      <th>C6H6(GT)</th>\n",
              "      <th>PT08.S2(NMHC)</th>\n",
              "      <th>NOx(GT)</th>\n",
              "      <th>PT08.S3(NOx)</th>\n",
              "      <th>NO2(GT)</th>\n",
              "      <th>PT08.S4(NO2)</th>\n",
              "      <th>PT08.S5(O3)</th>\n",
              "      <th>T</th>\n",
              "      <th>RH</th>\n",
              "      <th>AH</th>\n",
              "      <th>Unnamed: 15</th>\n",
              "      <th>Unnamed: 16</th>\n",
              "    </tr>\n",
              "  </thead>\n",
              "  <tbody>\n",
              "    <tr>\n",
              "      <th>0</th>\n",
              "      <td>10/03/2004</td>\n",
              "      <td>18:00:00</td>\n",
              "      <td>2.6</td>\n",
              "      <td>1360.0</td>\n",
              "      <td>150.0</td>\n",
              "      <td>11.9</td>\n",
              "      <td>1046.0</td>\n",
              "      <td>166.0</td>\n",
              "      <td>1056.0</td>\n",
              "      <td>113.0</td>\n",
              "      <td>1692.0</td>\n",
              "      <td>1268.0</td>\n",
              "      <td>13.6</td>\n",
              "      <td>48.9</td>\n",
              "      <td>0.7578</td>\n",
              "      <td>NaN</td>\n",
              "      <td>NaN</td>\n",
              "    </tr>\n",
              "    <tr>\n",
              "      <th>1</th>\n",
              "      <td>10/03/2004</td>\n",
              "      <td>19:00:00</td>\n",
              "      <td>2.0</td>\n",
              "      <td>1292.0</td>\n",
              "      <td>112.0</td>\n",
              "      <td>9.4</td>\n",
              "      <td>955.0</td>\n",
              "      <td>103.0</td>\n",
              "      <td>1174.0</td>\n",
              "      <td>92.0</td>\n",
              "      <td>1559.0</td>\n",
              "      <td>972.0</td>\n",
              "      <td>13.3</td>\n",
              "      <td>47.7</td>\n",
              "      <td>0.7255</td>\n",
              "      <td>NaN</td>\n",
              "      <td>NaN</td>\n",
              "    </tr>\n",
              "    <tr>\n",
              "      <th>2</th>\n",
              "      <td>10/03/2004</td>\n",
              "      <td>20:00:00</td>\n",
              "      <td>2.2</td>\n",
              "      <td>1402.0</td>\n",
              "      <td>88.0</td>\n",
              "      <td>9.0</td>\n",
              "      <td>939.0</td>\n",
              "      <td>131.0</td>\n",
              "      <td>1140.0</td>\n",
              "      <td>114.0</td>\n",
              "      <td>1555.0</td>\n",
              "      <td>1074.0</td>\n",
              "      <td>11.9</td>\n",
              "      <td>54.0</td>\n",
              "      <td>0.7502</td>\n",
              "      <td>NaN</td>\n",
              "      <td>NaN</td>\n",
              "    </tr>\n",
              "    <tr>\n",
              "      <th>3</th>\n",
              "      <td>10/03/2004</td>\n",
              "      <td>21:00:00</td>\n",
              "      <td>2.2</td>\n",
              "      <td>1376.0</td>\n",
              "      <td>80.0</td>\n",
              "      <td>9.2</td>\n",
              "      <td>948.0</td>\n",
              "      <td>172.0</td>\n",
              "      <td>1092.0</td>\n",
              "      <td>122.0</td>\n",
              "      <td>1584.0</td>\n",
              "      <td>1203.0</td>\n",
              "      <td>11.0</td>\n",
              "      <td>60.0</td>\n",
              "      <td>0.7867</td>\n",
              "      <td>NaN</td>\n",
              "      <td>NaN</td>\n",
              "    </tr>\n",
              "    <tr>\n",
              "      <th>4</th>\n",
              "      <td>10/03/2004</td>\n",
              "      <td>22:00:00</td>\n",
              "      <td>1.6</td>\n",
              "      <td>1272.0</td>\n",
              "      <td>51.0</td>\n",
              "      <td>6.5</td>\n",
              "      <td>836.0</td>\n",
              "      <td>131.0</td>\n",
              "      <td>1205.0</td>\n",
              "      <td>116.0</td>\n",
              "      <td>1490.0</td>\n",
              "      <td>1110.0</td>\n",
              "      <td>11.2</td>\n",
              "      <td>59.6</td>\n",
              "      <td>0.7888</td>\n",
              "      <td>NaN</td>\n",
              "      <td>NaN</td>\n",
              "    </tr>\n",
              "  </tbody>\n",
              "</table>\n",
              "</div>"
            ],
            "text/plain": [
              "         Date      Time  CO(GT)  PT08.S1(CO)  NMHC(GT)  C6H6(GT)  \\\n",
              "0  10/03/2004  18:00:00     2.6       1360.0     150.0      11.9   \n",
              "1  10/03/2004  19:00:00     2.0       1292.0     112.0       9.4   \n",
              "2  10/03/2004  20:00:00     2.2       1402.0      88.0       9.0   \n",
              "3  10/03/2004  21:00:00     2.2       1376.0      80.0       9.2   \n",
              "4  10/03/2004  22:00:00     1.6       1272.0      51.0       6.5   \n",
              "\n",
              "   PT08.S2(NMHC)  NOx(GT)  PT08.S3(NOx)  NO2(GT)  PT08.S4(NO2)  PT08.S5(O3)  \\\n",
              "0         1046.0    166.0        1056.0    113.0        1692.0       1268.0   \n",
              "1          955.0    103.0        1174.0     92.0        1559.0        972.0   \n",
              "2          939.0    131.0        1140.0    114.0        1555.0       1074.0   \n",
              "3          948.0    172.0        1092.0    122.0        1584.0       1203.0   \n",
              "4          836.0    131.0        1205.0    116.0        1490.0       1110.0   \n",
              "\n",
              "      T    RH      AH  Unnamed: 15  Unnamed: 16  \n",
              "0  13.6  48.9  0.7578          NaN          NaN  \n",
              "1  13.3  47.7  0.7255          NaN          NaN  \n",
              "2  11.9  54.0  0.7502          NaN          NaN  \n",
              "3  11.0  60.0  0.7867          NaN          NaN  \n",
              "4  11.2  59.6  0.7888          NaN          NaN  "
            ]
          },
          "execution_count": 339,
          "metadata": {},
          "output_type": "execute_result"
        }
      ]
    },
    {
      "cell_type": "code",
      "metadata": {
        "id": "ayCDKUIgiMxX"
      },
      "source": [
        "df=df.drop(['Unnamed: 15'], axis=1)\n",
        "df=df.drop(['Unnamed: 16'], axis=1)"
      ],
      "execution_count": null,
      "outputs": []
    },
    {
      "cell_type": "code",
      "metadata": {
        "id": "44t6ZiiriMxY"
      },
      "source": [
        "df.dropna(axis = 0, how='any', inplace = True)"
      ],
      "execution_count": null,
      "outputs": []
    },
    {
      "cell_type": "code",
      "metadata": {
        "id": "-LfYmZyDiMxZ"
      },
      "source": [
        "#d.info()"
      ],
      "execution_count": null,
      "outputs": []
    },
    {
      "cell_type": "code",
      "metadata": {
        "id": "Q06zALAZiMxZ"
      },
      "source": [
        "#df.info()"
      ],
      "execution_count": null,
      "outputs": []
    },
    {
      "cell_type": "code",
      "metadata": {
        "id": "YJ-6s51niMxa"
      },
      "source": [
        "#df=df.drop(['Date'], axis=1)\n",
        "#df=df.drop(['Time'], axis=1)\n",
        "df = df[['PT08.S1(CO)', 'RH']]"
      ],
      "execution_count": null,
      "outputs": []
    },
    {
      "cell_type": "code",
      "metadata": {
        "id": "QDyis0dfiMxc",
        "outputId": "722f1677-dce8-4c81-8d23-8cd44b950496"
      },
      "source": [
        "df.head()"
      ],
      "execution_count": null,
      "outputs": [
        {
          "data": {
            "text/html": [
              "<div>\n",
              "<style scoped>\n",
              "    .dataframe tbody tr th:only-of-type {\n",
              "        vertical-align: middle;\n",
              "    }\n",
              "\n",
              "    .dataframe tbody tr th {\n",
              "        vertical-align: top;\n",
              "    }\n",
              "\n",
              "    .dataframe thead th {\n",
              "        text-align: right;\n",
              "    }\n",
              "</style>\n",
              "<table border=\"1\" class=\"dataframe\">\n",
              "  <thead>\n",
              "    <tr style=\"text-align: right;\">\n",
              "      <th></th>\n",
              "      <th>PT08.S1(CO)</th>\n",
              "      <th>RH</th>\n",
              "    </tr>\n",
              "  </thead>\n",
              "  <tbody>\n",
              "    <tr>\n",
              "      <th>0</th>\n",
              "      <td>1360.0</td>\n",
              "      <td>48.9</td>\n",
              "    </tr>\n",
              "    <tr>\n",
              "      <th>1</th>\n",
              "      <td>1292.0</td>\n",
              "      <td>47.7</td>\n",
              "    </tr>\n",
              "    <tr>\n",
              "      <th>2</th>\n",
              "      <td>1402.0</td>\n",
              "      <td>54.0</td>\n",
              "    </tr>\n",
              "    <tr>\n",
              "      <th>3</th>\n",
              "      <td>1376.0</td>\n",
              "      <td>60.0</td>\n",
              "    </tr>\n",
              "    <tr>\n",
              "      <th>4</th>\n",
              "      <td>1272.0</td>\n",
              "      <td>59.6</td>\n",
              "    </tr>\n",
              "  </tbody>\n",
              "</table>\n",
              "</div>"
            ],
            "text/plain": [
              "   PT08.S1(CO)    RH\n",
              "0       1360.0  48.9\n",
              "1       1292.0  47.7\n",
              "2       1402.0  54.0\n",
              "3       1376.0  60.0\n",
              "4       1272.0  59.6"
            ]
          },
          "execution_count": 345,
          "metadata": {},
          "output_type": "execute_result"
        }
      ]
    },
    {
      "cell_type": "code",
      "metadata": {
        "scrolled": true,
        "id": "h_chY06diMxd"
      },
      "source": [
        "df['co'] = df['PT08.S1(CO)']\n",
        "del df['PT08.S1(CO)']"
      ],
      "execution_count": null,
      "outputs": []
    },
    {
      "cell_type": "code",
      "metadata": {
        "id": "1nQh70AgiMxf"
      },
      "source": [
        "df['rh'] = df['RH']\n",
        "del df['RH']"
      ],
      "execution_count": null,
      "outputs": []
    },
    {
      "cell_type": "code",
      "metadata": {
        "id": "Luu8k9CqiMxg"
      },
      "source": [
        "df = df[~((df['rh'] == -200) | (df['co'] == -200))]"
      ],
      "execution_count": null,
      "outputs": []
    },
    {
      "cell_type": "code",
      "metadata": {
        "scrolled": true,
        "id": "boA8OAwyiMxg",
        "outputId": "7f1a3955-8750-4283-d299-c9e3232e9395"
      },
      "source": [
        "df.head()"
      ],
      "execution_count": null,
      "outputs": [
        {
          "data": {
            "text/html": [
              "<div>\n",
              "<style scoped>\n",
              "    .dataframe tbody tr th:only-of-type {\n",
              "        vertical-align: middle;\n",
              "    }\n",
              "\n",
              "    .dataframe tbody tr th {\n",
              "        vertical-align: top;\n",
              "    }\n",
              "\n",
              "    .dataframe thead th {\n",
              "        text-align: right;\n",
              "    }\n",
              "</style>\n",
              "<table border=\"1\" class=\"dataframe\">\n",
              "  <thead>\n",
              "    <tr style=\"text-align: right;\">\n",
              "      <th></th>\n",
              "      <th>co</th>\n",
              "      <th>rh</th>\n",
              "    </tr>\n",
              "  </thead>\n",
              "  <tbody>\n",
              "    <tr>\n",
              "      <th>0</th>\n",
              "      <td>1360.0</td>\n",
              "      <td>48.9</td>\n",
              "    </tr>\n",
              "    <tr>\n",
              "      <th>1</th>\n",
              "      <td>1292.0</td>\n",
              "      <td>47.7</td>\n",
              "    </tr>\n",
              "    <tr>\n",
              "      <th>2</th>\n",
              "      <td>1402.0</td>\n",
              "      <td>54.0</td>\n",
              "    </tr>\n",
              "    <tr>\n",
              "      <th>3</th>\n",
              "      <td>1376.0</td>\n",
              "      <td>60.0</td>\n",
              "    </tr>\n",
              "    <tr>\n",
              "      <th>4</th>\n",
              "      <td>1272.0</td>\n",
              "      <td>59.6</td>\n",
              "    </tr>\n",
              "  </tbody>\n",
              "</table>\n",
              "</div>"
            ],
            "text/plain": [
              "       co    rh\n",
              "0  1360.0  48.9\n",
              "1  1292.0  47.7\n",
              "2  1402.0  54.0\n",
              "3  1376.0  60.0\n",
              "4  1272.0  59.6"
            ]
          },
          "execution_count": 349,
          "metadata": {},
          "output_type": "execute_result"
        }
      ]
    },
    {
      "cell_type": "code",
      "metadata": {
        "id": "8tBG2IHSiMxh"
      },
      "source": [
        "df.to_csv('C:\\homework\\DM_II\\project\\outliers\\\\data_for_task4.csv', index=False)"
      ],
      "execution_count": null,
      "outputs": []
    },
    {
      "cell_type": "markdown",
      "metadata": {
        "id": "OZ9kV20NiMxi"
      },
      "source": [
        "## Mahalanobis"
      ]
    },
    {
      "cell_type": "code",
      "metadata": {
        "id": "07TdvauxiMxk",
        "outputId": "0ec10774-2a5d-4d9a-f133-62e5610f73ef"
      },
      "source": [
        "df = pd.read_csv('C:\\homework\\DM_II\\project\\outliers\\\\data_for_task4.csv', skipinitialspace=True, \n",
        "                 sep=',')\n",
        "df.head()"
      ],
      "execution_count": null,
      "outputs": [
        {
          "data": {
            "text/html": [
              "<div>\n",
              "<style scoped>\n",
              "    .dataframe tbody tr th:only-of-type {\n",
              "        vertical-align: middle;\n",
              "    }\n",
              "\n",
              "    .dataframe tbody tr th {\n",
              "        vertical-align: top;\n",
              "    }\n",
              "\n",
              "    .dataframe thead th {\n",
              "        text-align: right;\n",
              "    }\n",
              "</style>\n",
              "<table border=\"1\" class=\"dataframe\">\n",
              "  <thead>\n",
              "    <tr style=\"text-align: right;\">\n",
              "      <th></th>\n",
              "      <th>co</th>\n",
              "      <th>rh</th>\n",
              "    </tr>\n",
              "  </thead>\n",
              "  <tbody>\n",
              "    <tr>\n",
              "      <th>0</th>\n",
              "      <td>1360.0</td>\n",
              "      <td>48.9</td>\n",
              "    </tr>\n",
              "    <tr>\n",
              "      <th>1</th>\n",
              "      <td>1292.0</td>\n",
              "      <td>47.7</td>\n",
              "    </tr>\n",
              "    <tr>\n",
              "      <th>2</th>\n",
              "      <td>1402.0</td>\n",
              "      <td>54.0</td>\n",
              "    </tr>\n",
              "    <tr>\n",
              "      <th>3</th>\n",
              "      <td>1376.0</td>\n",
              "      <td>60.0</td>\n",
              "    </tr>\n",
              "    <tr>\n",
              "      <th>4</th>\n",
              "      <td>1272.0</td>\n",
              "      <td>59.6</td>\n",
              "    </tr>\n",
              "  </tbody>\n",
              "</table>\n",
              "</div>"
            ],
            "text/plain": [
              "       co    rh\n",
              "0  1360.0  48.9\n",
              "1  1292.0  47.7\n",
              "2  1402.0  54.0\n",
              "3  1376.0  60.0\n",
              "4  1272.0  59.6"
            ]
          },
          "execution_count": 354,
          "metadata": {},
          "output_type": "execute_result"
        }
      ]
    },
    {
      "cell_type": "code",
      "metadata": {
        "id": "dmR2q6sxiMxl",
        "outputId": "ddc8fc9b-2d22-4205-dbf1-81244e1cd890"
      },
      "source": [
        "%pylab inline\n",
        "\n",
        "\n",
        "# as column vectors\n",
        "x = df['co']\n",
        "y = df['rh']\n",
        "# examine the shape of the numpy arrays\n",
        "#print x, y\n",
        "x.shape\n",
        "y.shape\n",
        "\n",
        "plot(x,y,'o')"
      ],
      "execution_count": null,
      "outputs": [
        {
          "name": "stdout",
          "output_type": "stream",
          "text": [
            "Populating the interactive namespace from numpy and matplotlib\n"
          ]
        },
        {
          "data": {
            "text/plain": [
              "[<matplotlib.lines.Line2D at 0x16173df2128>]"
            ]
          },
          "execution_count": 355,
          "metadata": {},
          "output_type": "execute_result"
        },
        {
          "data": {
            "image/png": "[encoded data removed]",
            "text/plain": [
              "<Figure size 432x288 with 1 Axes>"
            ]
          },
          "metadata": {
            "needs_background": "light"
          },
          "output_type": "display_data"
        }
      ]
    },
    {
      "cell_type": "code",
      "metadata": {
        "id": "QQjYJuWKiMxn",
        "outputId": "212cdb46-64a8-416a-cc67-c2e7a54fc308"
      },
      "source": [
        "covariance_xy = np.cov(x, y, rowvar=0)\n",
        "inv_covariance_xy = np.linalg.inv(covariance_xy)\n",
        "\n",
        "# Examine inverse covariance matrix and shape\n",
        "\"Covariance\\n\", covariance_xy\n",
        "\"Inverse Cov.:\\n\", inv_covariance_xy"
      ],
      "execution_count": null,
      "outputs": [
        {
          "data": {
            "text/plain": [
              "('Inverse Cov.:\\n', array([[ 2.15031580e-05, -3.08928879e-05],\n",
              "        [-3.08928879e-05,  3.37910823e-03]]))"
            ]
          },
          "execution_count": 356,
          "metadata": {},
          "output_type": "execute_result"
        }
      ]
    },
    {
      "cell_type": "code",
      "metadata": {
        "id": "n_8Ybh7jiMxo",
        "outputId": "560b259d-056b-4945-d1d2-2a541d2b5aeb"
      },
      "source": [
        "xy_mean = np.mean(x),np.mean(y)\n",
        "x_diff = np.array([x_i - xy_mean[0] for x_i in x])\n",
        "y_diff = np.array([y_i - xy_mean[1] for y_i in y])\n",
        "x_diff.shape"
      ],
      "execution_count": null,
      "outputs": [
        {
          "data": {
            "text/plain": [
              "(8991,)"
            ]
          },
          "execution_count": 357,
          "metadata": {},
          "output_type": "execute_result"
        }
      ]
    },
    {
      "cell_type": "code",
      "metadata": {
        "id": "Wsa6kF9niMxp",
        "outputId": "0975b7f2-9467-42fe-edec-8e58da99b7ca"
      },
      "source": [
        "diff_xy = np.transpose([x_diff, y_diff])\n",
        "diff_xy.shape, diff_xy[0:5]"
      ],
      "execution_count": null,
      "outputs": [
        {
          "data": {
            "text/plain": [
              "((8991, 2), array([[260.1668335 ,  -0.33420087],\n",
              "        [192.1668335 ,  -1.53420087],\n",
              "        [302.1668335 ,   4.76579913],\n",
              "        [276.1668335 ,  10.76579913],\n",
              "        [172.1668335 ,  10.36579913]]))"
            ]
          },
          "execution_count": 358,
          "metadata": {},
          "output_type": "execute_result"
        }
      ]
    },
    {
      "cell_type": "code",
      "metadata": {
        "id": "TNRMAgUmiMxq",
        "outputId": "75cef1c0-c7e7-4170-b6ef-54ea328c0df3"
      },
      "source": [
        "np.transpose(diff_xy[1]).shape\n",
        "inv_covariance_xy.shape\n",
        "diff_xy.shape\n"
      ],
      "execution_count": null,
      "outputs": [
        {
          "data": {
            "text/plain": [
              "(8991, 2)"
            ]
          },
          "execution_count": 359,
          "metadata": {},
          "output_type": "execute_result"
        }
      ]
    },
    {
      "cell_type": "code",
      "metadata": {
        "id": "aoULYFT_iMxr",
        "outputId": "0df992bd-028b-4b2b-bc2f-b94aee2eb930"
      },
      "source": [
        "md = []\n",
        "for i in range(len(diff_xy)):\n",
        "    md.append(np.sqrt(np.dot(np.dot(np.transpose(diff_xy[i]),inv_covariance_xy),diff_xy[i])))\n",
        "md[0:5]"
      ],
      "execution_count": null,
      "outputs": [
        {
          "data": {
            "text/plain": [
              "[1.2088131022663362,\n",
              " 0.9056710692919766,\n",
              " 1.396823170496488,\n",
              " 1.359394535594461,\n",
              " 0.9435055881055419]"
            ]
          },
          "execution_count": 360,
          "metadata": {},
          "output_type": "execute_result"
        }
      ]
    },
    {
      "cell_type": "code",
      "metadata": {
        "id": "hoJPIJ6giMxs"
      },
      "source": [
        "def MahalanobisDist(x, y):\n",
        "    covariance_xy = np.cov(x,y, rowvar=0)\n",
        "    inv_covariance_xy = np.linalg.inv(covariance_xy)\n",
        "    xy_mean = np.mean(x),np.mean(y)\n",
        "    x_diff = np.array([x_i - xy_mean[0] for x_i in x])\n",
        "    y_diff = np.array([y_i - xy_mean[1] for y_i in y])\n",
        "    diff_xy = np.transpose([x_diff, y_diff])\n",
        "    \n",
        "    md = []\n",
        "    for i in range(len(diff_xy)):\n",
        "        md.append(np.sqrt(np.dot(np.dot(np.transpose(diff_xy[i]),inv_covariance_xy),diff_xy[i])))\n",
        "    return md"
      ],
      "execution_count": null,
      "outputs": []
    },
    {
      "cell_type": "code",
      "metadata": {
        "id": "_3Fdx6rAiMxt",
        "outputId": "871f806f-52b2-47d1-e786-e4c809de94a7"
      },
      "source": [
        "MahalanobisDist(x,y)[0:5]"
      ],
      "execution_count": null,
      "outputs": [
        {
          "data": {
            "text/plain": [
              "[1.2088131022663362,\n",
              " 0.9056710692919766,\n",
              " 1.396823170496488,\n",
              " 1.359394535594461,\n",
              " 0.9435055881055419]"
            ]
          },
          "execution_count": 362,
          "metadata": {},
          "output_type": "execute_result"
        }
      ]
    },
    {
      "cell_type": "code",
      "metadata": {
        "id": "_Z0SYfiviMxu"
      },
      "source": [
        "# A slightly naive approach: threshold = 1.5 * mean Mahalanobis distance in the dataset\n",
        "def MD_removeOutliers(x, y):\n",
        "    MD = MahalanobisDist(x, y)\n",
        "    threshold = np.mean(MD)*1.5 # adjust 1.5 accordingly \n",
        "    nx, ny, outliers = [], [], []\n",
        "    for i in range(len(MD)):\n",
        "        if MD[i] <= threshold:\n",
        "            nx.append(x[i])\n",
        "            ny.append(y[i])\n",
        "        else:\n",
        "            outliers.append(i) # position of removed pair\n",
        "    return (np.array(nx), np.array(ny), np.array(outliers))"
      ],
      "execution_count": null,
      "outputs": []
    },
    {
      "cell_type": "code",
      "metadata": {
        "id": "jTM7IvZxiMxv",
        "outputId": "cf317024-d19a-457a-a75c-c8b6b72f7194"
      },
      "source": [
        "outliers"
      ],
      "execution_count": null,
      "outputs": [
        {
          "data": {
            "text/plain": [
              "array([  25,   26,   50,   53,   73,   74,   75,   97,   98,  110,  111,\n",
              "        112,  120,  121,  122,  136,  137,  139,  147,  159,  166,  168,\n",
              "        169,  170,  171,  182,  183,  184,  190,  192,  193,  194,  206,\n",
              "        207,  241,  242,  470,  471,  472,  493,  518,  526,  550,  551,\n",
              "        574,  611,  634,  635,  694,  837,  838,  839,  850,  857,  860,\n",
              "        862,  863,  942,  971,  981,  982, 1019, 1026, 1027, 1028, 1029,\n",
              "       1030, 1138, 1149, 1150, 1151, 1162, 1163, 1173, 1174, 1198, 1282,\n",
              "       1283, 1376, 1426, 1462, 1475, 1480, 1619, 1643, 1667, 1797, 1937,\n",
              "       2778, 2802, 3079, 3871, 3872, 3873, 3874, 3875, 4245, 4748, 4749,\n",
              "       4750, 4771, 4772, 4773, 4844, 4845, 4867, 4868, 4869, 4893, 4894,\n",
              "       4906, 4915, 4917, 4918, 4929, 4965, 5092, 5194, 5218, 5221, 5222,\n",
              "       5223, 5227, 5228, 5229, 5230, 5252, 5253, 5275, 5276, 5277, 5347,\n",
              "       5348, 5349, 5350, 5370, 5371, 5372, 5373, 5419, 5438, 5440, 5536,\n",
              "       5539, 5540, 5541, 5542, 5587, 5588, 5603, 5611, 5612, 5713, 5714,\n",
              "       5720, 5725, 5747, 5899, 5900, 5949, 5952, 5953, 5954, 5955, 5956,\n",
              "       6020, 6021, 6022, 6034, 6035, 6036, 6039, 6040, 6042, 6043, 6044,\n",
              "       6045, 6046, 6047, 6048, 6068, 6069, 6070, 6114, 6115, 6116, 6117,\n",
              "       6118, 6119, 6123, 6135, 6138, 6140, 6142, 6179, 6181, 6234, 6235,\n",
              "       6236, 6260, 6261, 6262, 6263, 6274, 6275, 6276, 6283, 6286, 6521,\n",
              "       6524, 6525, 6566, 6689, 6690, 6691, 6732, 6733, 6734, 6735, 6736,\n",
              "       6935, 6937, 6938, 6939, 7018, 7232, 7252, 7253, 7254, 7255, 7256,\n",
              "       7257, 7258, 7330, 7331, 7332, 7334, 7631, 7632, 7771, 7772, 7773,\n",
              "       7774, 7775, 7776, 7777, 7778, 7779, 7781, 7782, 7783, 7784, 7785,\n",
              "       7786, 7787, 7996, 7997, 8002, 8045, 8228, 8491, 8492, 8515, 8516,\n",
              "       8649, 8707, 8708, 8724, 8731, 8732, 8733, 8755])"
            ]
          },
          "execution_count": 364,
          "metadata": {},
          "output_type": "execute_result"
        }
      ]
    },
    {
      "cell_type": "code",
      "metadata": {
        "id": "oOJ_IW9ciMxw",
        "outputId": "4b712595-fea2-4731-f5a5-b267ea464208"
      },
      "source": [
        "'x:', x\n",
        "'y:', y\n",
        "MD_removeOutliers(x,y)"
      ],
      "execution_count": null,
      "outputs": [
        {
          "data": {
            "text/plain": [
              "(array([1360., 1292., 1402., ..., 1314., 1163., 1142.]),\n",
              " array([48.9, 47.7, 54. , ..., 29.3, 23.7, 18.3]),\n",
              " array([  20,   24,   25, ..., 8969, 8989, 8990]))"
            ]
          },
          "execution_count": 365,
          "metadata": {},
          "output_type": "execute_result"
        }
      ]
    },
    {
      "cell_type": "code",
      "metadata": {
        "id": "TTE9tYu3iMxx",
        "outputId": "951b4f28-6b02-4f93-c165-0726339cba7a"
      },
      "source": [
        "DF_diff_xy = pd.DataFrame(diff_xy)\n",
        "DF_diff_xy.rename(columns = lambda x: str(x), inplace=True)\n",
        "DF_diff_xy.rename(columns={\"0\": \"X\"}, inplace=True) # rename a dfcolumn   \n",
        "DF_diff_xy.rename(columns={\"1\": \"Y\"}, inplace=True) # rename a dfcolumn \n",
        "DF_diff_xy.head()"
      ],
      "execution_count": null,
      "outputs": [
        {
          "data": {
            "text/html": [
              "<div>\n",
              "<style scoped>\n",
              "    .dataframe tbody tr th:only-of-type {\n",
              "        vertical-align: middle;\n",
              "    }\n",
              "\n",
              "    .dataframe tbody tr th {\n",
              "        vertical-align: top;\n",
              "    }\n",
              "\n",
              "    .dataframe thead th {\n",
              "        text-align: right;\n",
              "    }\n",
              "</style>\n",
              "<table border=\"1\" class=\"dataframe\">\n",
              "  <thead>\n",
              "    <tr style=\"text-align: right;\">\n",
              "      <th></th>\n",
              "      <th>X</th>\n",
              "      <th>Y</th>\n",
              "    </tr>\n",
              "  </thead>\n",
              "  <tbody>\n",
              "    <tr>\n",
              "      <th>0</th>\n",
              "      <td>260.166834</td>\n",
              "      <td>-0.334201</td>\n",
              "    </tr>\n",
              "    <tr>\n",
              "      <th>1</th>\n",
              "      <td>192.166834</td>\n",
              "      <td>-1.534201</td>\n",
              "    </tr>\n",
              "    <tr>\n",
              "      <th>2</th>\n",
              "      <td>302.166834</td>\n",
              "      <td>4.765799</td>\n",
              "    </tr>\n",
              "    <tr>\n",
              "      <th>3</th>\n",
              "      <td>276.166834</td>\n",
              "      <td>10.765799</td>\n",
              "    </tr>\n",
              "    <tr>\n",
              "      <th>4</th>\n",
              "      <td>172.166834</td>\n",
              "      <td>10.365799</td>\n",
              "    </tr>\n",
              "  </tbody>\n",
              "</table>\n",
              "</div>"
            ],
            "text/plain": [
              "            X          Y\n",
              "0  260.166834  -0.334201\n",
              "1  192.166834  -1.534201\n",
              "2  302.166834   4.765799\n",
              "3  276.166834  10.765799\n",
              "4  172.166834  10.365799"
            ]
          },
          "execution_count": 366,
          "metadata": {},
          "output_type": "execute_result"
        }
      ]
    },
    {
      "cell_type": "code",
      "metadata": {
        "id": "qZiWqYkniMxx",
        "outputId": "85406a00-d0df-4ec3-f724-a91755ab0e58"
      },
      "source": [
        "from scipy.stats import chi2\n",
        "\n",
        "# Print the probability that Mahalanobis distance can be >= than the value for each point\n",
        "# Typical approach: outliers <=> probability < 0.05 (or something small like that)\n",
        "\n",
        "prob_larger = 1 - chi2.cdf(MahalanobisDist(x,y), 2) # NOTICE: 2 = dimensionality of the dataset\n",
        "\n",
        "my_table = pd.DataFrame(np.vstack([x,y,prob_larger]))\n",
        "my_table.rename(index={0: \"X\", 1: \"Y\", 2: \"Prob\"}, inplace=True)\n",
        "my_table"
      ],
      "execution_count": null,
      "outputs": [
        {
          "data": {
            "text/html": [
              "<div>\n",
              "<style scoped>\n",
              "    .dataframe tbody tr th:only-of-type {\n",
              "        vertical-align: middle;\n",
              "    }\n",
              "\n",
              "    .dataframe tbody tr th {\n",
              "        vertical-align: top;\n",
              "    }\n",
              "\n",
              "    .dataframe thead th {\n",
              "        text-align: right;\n",
              "    }\n",
              "</style>\n",
              "<table border=\"1\" class=\"dataframe\">\n",
              "  <thead>\n",
              "    <tr style=\"text-align: right;\">\n",
              "      <th></th>\n",
              "      <th>0</th>\n",
              "      <th>1</th>\n",
              "      <th>2</th>\n",
              "      <th>3</th>\n",
              "      <th>4</th>\n",
              "      <th>5</th>\n",
              "      <th>6</th>\n",
              "      <th>7</th>\n",
              "      <th>8</th>\n",
              "      <th>9</th>\n",
              "      <th>...</th>\n",
              "      <th>8981</th>\n",
              "      <th>8982</th>\n",
              "      <th>8983</th>\n",
              "      <th>8984</th>\n",
              "      <th>8985</th>\n",
              "      <th>8986</th>\n",
              "      <th>8987</th>\n",
              "      <th>8988</th>\n",
              "      <th>8989</th>\n",
              "      <th>8990</th>\n",
              "    </tr>\n",
              "  </thead>\n",
              "  <tbody>\n",
              "    <tr>\n",
              "      <th>X</th>\n",
              "      <td>1360.000000</td>\n",
              "      <td>1292.000000</td>\n",
              "      <td>1402.000000</td>\n",
              "      <td>1376.00000</td>\n",
              "      <td>1272.000000</td>\n",
              "      <td>1197.000000</td>\n",
              "      <td>1185.000000</td>\n",
              "      <td>1136.000000</td>\n",
              "      <td>1094.000000</td>\n",
              "      <td>1010.000000</td>\n",
              "      <td>...</td>\n",
              "      <td>888.000000</td>\n",
              "      <td>1031.000000</td>\n",
              "      <td>1384.000000</td>\n",
              "      <td>1446.000000</td>\n",
              "      <td>1297.000000</td>\n",
              "      <td>1314.000000</td>\n",
              "      <td>1163.000000</td>\n",
              "      <td>1142.000000</td>\n",
              "      <td>1003.000000</td>\n",
              "      <td>1071.0000</td>\n",
              "    </tr>\n",
              "    <tr>\n",
              "      <th>Y</th>\n",
              "      <td>48.900000</td>\n",
              "      <td>47.700000</td>\n",
              "      <td>54.000000</td>\n",
              "      <td>60.00000</td>\n",
              "      <td>59.600000</td>\n",
              "      <td>59.200000</td>\n",
              "      <td>56.800000</td>\n",
              "      <td>60.000000</td>\n",
              "      <td>59.700000</td>\n",
              "      <td>60.200000</td>\n",
              "      <td>...</td>\n",
              "      <td>59.900000</td>\n",
              "      <td>63.100000</td>\n",
              "      <td>61.900000</td>\n",
              "      <td>48.900000</td>\n",
              "      <td>36.300000</td>\n",
              "      <td>29.300000</td>\n",
              "      <td>23.700000</td>\n",
              "      <td>18.300000</td>\n",
              "      <td>13.500000</td>\n",
              "      <td>13.1000</td>\n",
              "    </tr>\n",
              "    <tr>\n",
              "      <th>Prob</th>\n",
              "      <td>0.546399</td>\n",
              "      <td>0.635823</td>\n",
              "      <td>0.497375</td>\n",
              "      <td>0.50677</td>\n",
              "      <td>0.623908</td>\n",
              "      <td>0.707531</td>\n",
              "      <td>0.757145</td>\n",
              "      <td>0.730132</td>\n",
              "      <td>0.736362</td>\n",
              "      <td>0.670167</td>\n",
              "      <td>...</td>\n",
              "      <td>0.543293</td>\n",
              "      <td>0.637536</td>\n",
              "      <td>0.488236</td>\n",
              "      <td>0.447632</td>\n",
              "      <td>0.535658</td>\n",
              "      <td>0.447037</td>\n",
              "      <td>0.461738</td>\n",
              "      <td>0.400326</td>\n",
              "      <td>0.354463</td>\n",
              "      <td>0.3518</td>\n",
              "    </tr>\n",
              "  </tbody>\n",
              "</table>\n",
              "<p>3 rows × 8991 columns</p>\n",
              "</div>"
            ],
            "text/plain": [
              "             0            1            2           3            4     \\\n",
              "X     1360.000000  1292.000000  1402.000000  1376.00000  1272.000000   \n",
              "Y       48.900000    47.700000    54.000000    60.00000    59.600000   \n",
              "Prob     0.546399     0.635823     0.497375     0.50677     0.623908   \n",
              "\n",
              "             5            6            7            8            9     \\\n",
              "X     1197.000000  1185.000000  1136.000000  1094.000000  1010.000000   \n",
              "Y       59.200000    56.800000    60.000000    59.700000    60.200000   \n",
              "Prob     0.707531     0.757145     0.730132     0.736362     0.670167   \n",
              "\n",
              "        ...            8981         8982         8983         8984  \\\n",
              "X       ...      888.000000  1031.000000  1384.000000  1446.000000   \n",
              "Y       ...       59.900000    63.100000    61.900000    48.900000   \n",
              "Prob    ...        0.543293     0.637536     0.488236     0.447632   \n",
              "\n",
              "             8985         8986         8987         8988         8989  \\\n",
              "X     1297.000000  1314.000000  1163.000000  1142.000000  1003.000000   \n",
              "Y       36.300000    29.300000    23.700000    18.300000    13.500000   \n",
              "Prob     0.535658     0.447037     0.461738     0.400326     0.354463   \n",
              "\n",
              "           8990  \n",
              "X     1071.0000  \n",
              "Y       13.1000  \n",
              "Prob     0.3518  \n",
              "\n",
              "[3 rows x 8991 columns]"
            ]
          },
          "execution_count": 367,
          "metadata": {},
          "output_type": "execute_result"
        }
      ]
    },
    {
      "cell_type": "code",
      "metadata": {
        "id": "e9e-v8rviMxy"
      },
      "source": [
        "# A slightly bettr approach -- check probability that the Mahalanobis distance is \"normal\"\n",
        "from scipy.stats import chi2\n",
        "def MD_removeOutliers_better(x, y, threshold=0.3):\n",
        "    MD = MahalanobisDist(x, y)\n",
        "    prob_larger = 1 - chi2.cdf(MahalanobisDist(x,y), 2) # NOTICE: 2 = dimensionality of the dataset\n",
        "    nx, ny, outliers = [], [], []\n",
        "    for i in range(len(MD)):\n",
        "        if prob_larger[i] > threshold: # the point is normal\n",
        "            nx.append(x[i])\n",
        "            ny.append(y[i])\n",
        "        else:\n",
        "            outliers.append(i) # position of removed pair\n",
        "    return (np.array(nx), np.array(ny), np.array(outliers))"
      ],
      "execution_count": null,
      "outputs": []
    },
    {
      "cell_type": "code",
      "metadata": {
        "scrolled": true,
        "id": "O5LjMAF9iMxz",
        "outputId": "8ce4d5d0-70df-4c4d-86d7-07d23fb35cb0"
      },
      "source": [
        "outliers"
      ],
      "execution_count": null,
      "outputs": [
        {
          "data": {
            "text/plain": [
              "array([  25,   26,   50,   53,   73,   74,   75,   97,   98,  110,  111,\n",
              "        112,  120,  121,  122,  136,  137,  139,  147,  159,  166,  168,\n",
              "        169,  170,  171,  182,  183,  184,  190,  192,  193,  194,  206,\n",
              "        207,  241,  242,  470,  471,  472,  493,  518,  526,  550,  551,\n",
              "        574,  611,  634,  635,  694,  837,  838,  839,  850,  857,  860,\n",
              "        862,  863,  942,  971,  981,  982, 1019, 1026, 1027, 1028, 1029,\n",
              "       1030, 1138, 1149, 1150, 1151, 1162, 1163, 1173, 1174, 1198, 1282,\n",
              "       1283, 1376, 1426, 1462, 1475, 1480, 1619, 1643, 1667, 1797, 1937,\n",
              "       2778, 2802, 3079, 3871, 3872, 3873, 3874, 3875, 4245, 4748, 4749,\n",
              "       4750, 4771, 4772, 4773, 4844, 4845, 4867, 4868, 4869, 4893, 4894,\n",
              "       4906, 4915, 4917, 4918, 4929, 4965, 5092, 5194, 5218, 5221, 5222,\n",
              "       5223, 5227, 5228, 5229, 5230, 5252, 5253, 5275, 5276, 5277, 5347,\n",
              "       5348, 5349, 5350, 5370, 5371, 5372, 5373, 5419, 5438, 5440, 5536,\n",
              "       5539, 5540, 5541, 5542, 5587, 5588, 5603, 5611, 5612, 5713, 5714,\n",
              "       5720, 5725, 5747, 5899, 5900, 5949, 5952, 5953, 5954, 5955, 5956,\n",
              "       6020, 6021, 6022, 6034, 6035, 6036, 6039, 6040, 6042, 6043, 6044,\n",
              "       6045, 6046, 6047, 6048, 6068, 6069, 6070, 6114, 6115, 6116, 6117,\n",
              "       6118, 6119, 6123, 6135, 6138, 6140, 6142, 6179, 6181, 6234, 6235,\n",
              "       6236, 6260, 6261, 6262, 6263, 6274, 6275, 6276, 6283, 6286, 6521,\n",
              "       6524, 6525, 6566, 6689, 6690, 6691, 6732, 6733, 6734, 6735, 6736,\n",
              "       6935, 6937, 6938, 6939, 7018, 7232, 7252, 7253, 7254, 7255, 7256,\n",
              "       7257, 7258, 7330, 7331, 7332, 7334, 7631, 7632, 7771, 7772, 7773,\n",
              "       7774, 7775, 7776, 7777, 7778, 7779, 7781, 7782, 7783, 7784, 7785,\n",
              "       7786, 7787, 7996, 7997, 8002, 8045, 8228, 8491, 8492, 8515, 8516,\n",
              "       8649, 8707, 8708, 8724, 8731, 8732, 8733, 8755])"
            ]
          },
          "execution_count": 369,
          "metadata": {},
          "output_type": "execute_result"
        }
      ]
    },
    {
      "cell_type": "code",
      "metadata": {
        "id": "bklXXgOGiMxz",
        "outputId": "de9a145b-ee1a-4771-f34d-b115eb9b2003"
      },
      "source": [
        "xok, yok, outliers = MD_removeOutliers_better(x,y,0.01) # We use a large threshold to get some outliers...\n",
        "xok, yok\n",
        "x[outliers], y[outliers]"
      ],
      "execution_count": null,
      "outputs": [
        {
          "data": {
            "text/plain": [
              "(Series([], Name: co, dtype: float64), Series([], Name: rh, dtype: float64))"
            ]
          },
          "execution_count": 370,
          "metadata": {},
          "output_type": "execute_result"
        }
      ]
    },
    {
      "cell_type": "code",
      "metadata": {
        "id": "VvjDn7kziMx0",
        "outputId": "a01c99a9-5aed-4f47-cd76-5b6088ff3994"
      },
      "source": [
        "%pylab inline\n",
        "xok, yok, outliers = MD_removeOutliers_better(x,y,0.33)\n",
        "\n",
        "xlim(min(x)-1, max(x)+1)\n",
        "ylim(min(y)-1, max(y)+1)\n",
        "\n",
        "plt.figure(figsize=(16, 8))\n",
        "plot(xok,yok,'bo')\n",
        "if outliers.any():\n",
        "    plot(x[outliers], y[outliers],'ro')\n"
      ],
      "execution_count": null,
      "outputs": [
        {
          "name": "stdout",
          "output_type": "stream",
          "text": [
            "Populating the interactive namespace from numpy and matplotlib\n"
          ]
        },
        {
          "data": {
            "image/png": "[encoded data removed]",
            "text/plain": [
              "<Figure size 432x288 with 1 Axes>"
            ]
          },
          "metadata": {
            "needs_background": "light"
          },
          "output_type": "display_data"
        },
        {
          "data": {
            "image/png": "[encoded data removed]",
            "text/plain": [
              "<Figure size 1152x576 with 1 Axes>"
            ]
          },
          "metadata": {
            "needs_background": "light"
          },
          "output_type": "display_data"
        }
      ]
    },
    {
      "cell_type": "code",
      "metadata": {
        "id": "Uzz4mExriMx0",
        "outputId": "04821c53-c642-4dd2-fbc2-7af0e8ebaaf0"
      },
      "source": [
        "prob_larger = 1 - chi2.cdf(MahalanobisDist(x,y), 2)\n",
        "\n",
        "grid()\n",
        "plt.figure(figsize=(16, 8))\n",
        "plot(sort(prob_larger), \"b-\") # All dataset\n",
        "plot(sort(prob_larger[prob_larger<0.33]), \"ro\") # Red points = outliers with threshold = 0.33"
      ],
      "execution_count": null,
      "outputs": [
        {
          "data": {
            "text/plain": [
              "[<matplotlib.lines.Line2D at 0x16173e1e3c8>]"
            ]
          },
          "execution_count": 379,
          "metadata": {},
          "output_type": "execute_result"
        },
        {
          "data": {
            "image/png": "[encoded data removed]",
            "text/plain": [
              "<Figure size 432x288 with 1 Axes>"
            ]
          },
          "metadata": {
            "needs_background": "light"
          },
          "output_type": "display_data"
        },
        {
          "data": {
            "image/png": "[encoded data removed]",
            "text/plain": [
              "<Figure size 1152x576 with 1 Axes>"
            ]
          },
          "metadata": {
            "needs_background": "light"
          },
          "output_type": "display_data"
        }
      ]
    },
    {
      "cell_type": "code",
      "metadata": {
        "id": "027BHyTqiMx1"
      },
      "source": [
        ""
      ],
      "execution_count": null,
      "outputs": []
    },
    {
      "cell_type": "code",
      "metadata": {
        "id": "F-TuritliMx1"
      },
      "source": [
        ""
      ],
      "execution_count": null,
      "outputs": []
    }
  ]
}